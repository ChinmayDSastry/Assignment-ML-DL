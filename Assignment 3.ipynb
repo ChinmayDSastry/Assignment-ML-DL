{
 "cells": [
  {
   "cell_type": "code",
   "execution_count": 7,
   "metadata": {},
   "outputs": [
    {
     "name": "stdout",
     "output_type": "stream",
     "text": [
      "['x', 'xx', 'xxx', 'xxxx', 'y', 'yy', 'yyy', 'yyyy', 'z', 'zz', 'zzz', 'zzzz']\n"
     ]
    }
   ],
   "source": [
    "my_list =list('xyz')\n",
    "required_list = []\n",
    "[required_list.append(my_list[i]*j) for i in range(len(my_list)) for j in range(1,5)]\n",
    "print(required_list)"
   ]
  },
  {
   "cell_type": "markdown",
   "metadata": {},
   "source": [
    "### My_Reduce"
   ]
  },
  {
   "cell_type": "code",
   "execution_count": 10,
   "metadata": {
    "scrolled": true
   },
   "outputs": [
    {
     "data": {
      "text/plain": [
       "13"
      ]
     },
     "execution_count": 10,
     "metadata": {},
     "output_type": "execute_result"
    }
   ],
   "source": [
    "def my_sum(x1, x2): \n",
    "    \n",
    "    return x1 + x2\n",
    "\n",
    "def my_reduce(func, seq):\n",
    "     first = seq[0]\n",
    "        \n",
    "     for i in seq[1:]:\n",
    "        first = func(first, i)\n",
    "        \n",
    "     return first\n",
    " \n",
    "\n",
    "my_reduce(do_sum, [1, 5, 3, 4])\n",
    "\n",
    "\n"
   ]
  },
  {
   "cell_type": "markdown",
   "metadata": {},
   "source": [
    "### My_Filter"
   ]
  },
  {
   "cell_type": "code",
   "execution_count": 25,
   "metadata": {},
   "outputs": [
    {
     "data": {
      "text/plain": [
       "[1, 3, 5, 21]"
      ]
     },
     "execution_count": 25,
     "metadata": {},
     "output_type": "execute_result"
    }
   ],
   "source": [
    "def check_if_odd(num): \n",
    "    \n",
    "    if num % 2 == 0:\n",
    "        return False\n",
    "    \n",
    "    else:\n",
    "        return True\n",
    "\n",
    "def my_filter(func, my_list):\n",
    "     required_list = []\n",
    "        \n",
    "     for i in range(len(my_list)):\n",
    "        if check_if_odd(my_list[i]):\n",
    "            required_list.append(my_list[i])\n",
    "            \n",
    "     return required_list\n",
    " \n",
    "\n",
    "my_filter(check_if_odd, [1,3,5,24,32,44,21])\n"
   ]
  },
  {
   "cell_type": "code",
   "execution_count": null,
   "metadata": {},
   "outputs": [],
   "source": []
  }
 ],
 "metadata": {
  "kernelspec": {
   "display_name": "Python 3",
   "language": "python",
   "name": "python3"
  },
  "language_info": {
   "codemirror_mode": {
    "name": "ipython",
    "version": 3
   },
   "file_extension": ".py",
   "mimetype": "text/x-python",
   "name": "python",
   "nbconvert_exporter": "python",
   "pygments_lexer": "ipython3",
   "version": "3.8.3"
  }
 },
 "nbformat": 4,
 "nbformat_minor": 4
}
